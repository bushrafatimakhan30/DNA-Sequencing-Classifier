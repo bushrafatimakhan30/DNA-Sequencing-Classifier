{
 "cells": [
  {
   "cell_type": "code",
   "execution_count": 1,
   "id": "1d63988b",
   "metadata": {},
   "outputs": [
    {
     "name": "stderr",
     "output_type": "stream",
     "text": [
      "C:\\Users\\Lenovo\\anaconda3\\lib\\site-packages\\scipy\\__init__.py:155: UserWarning: A NumPy version >=1.18.5 and <1.25.0 is required for this version of SciPy (detected version 1.26.4\n",
      "  warnings.warn(f\"A NumPy version >={np_minversion} and <{np_maxversion}\"\n"
     ]
    }
   ],
   "source": [
    "import pandas as pd\n",
    "import numpy as np\n",
    "import matplotlib.pyplot as plt\n",
    "import seaborn as sns"
   ]
  },
  {
   "cell_type": "code",
   "execution_count": 2,
   "id": "10439936",
   "metadata": {},
   "outputs": [
    {
     "data": {
      "text/html": [
       "<div>\n",
       "<style scoped>\n",
       "    .dataframe tbody tr th:only-of-type {\n",
       "        vertical-align: middle;\n",
       "    }\n",
       "\n",
       "    .dataframe tbody tr th {\n",
       "        vertical-align: top;\n",
       "    }\n",
       "\n",
       "    .dataframe thead th {\n",
       "        text-align: right;\n",
       "    }\n",
       "</style>\n",
       "<table border=\"1\" class=\"dataframe\">\n",
       "  <thead>\n",
       "    <tr style=\"text-align: right;\">\n",
       "      <th></th>\n",
       "      <th>sequence</th>\n",
       "      <th>class</th>\n",
       "    </tr>\n",
       "  </thead>\n",
       "  <tbody>\n",
       "    <tr>\n",
       "      <th>0</th>\n",
       "      <td>ATGCCCCAACTAAATACTACCGTATGGCCCACCATAATTACCCCCA...</td>\n",
       "      <td>4</td>\n",
       "    </tr>\n",
       "    <tr>\n",
       "      <th>1</th>\n",
       "      <td>ATGAACGAAAATCTGTTCGCTTCATTCATTGCCCCCACAATCCTAG...</td>\n",
       "      <td>4</td>\n",
       "    </tr>\n",
       "    <tr>\n",
       "      <th>2</th>\n",
       "      <td>ATGTGTGGCATTTGGGCGCTGTTTGGCAGTGATGATTGCCTTTCTG...</td>\n",
       "      <td>3</td>\n",
       "    </tr>\n",
       "    <tr>\n",
       "      <th>3</th>\n",
       "      <td>ATGTGTGGCATTTGGGCGCTGTTTGGCAGTGATGATTGCCTTTCTG...</td>\n",
       "      <td>3</td>\n",
       "    </tr>\n",
       "    <tr>\n",
       "      <th>4</th>\n",
       "      <td>ATGCAACAGCATTTTGAATTTGAATACCAGACCAAAGTGGATGGTG...</td>\n",
       "      <td>3</td>\n",
       "    </tr>\n",
       "  </tbody>\n",
       "</table>\n",
       "</div>"
      ],
      "text/plain": [
       "                                            sequence  class\n",
       "0  ATGCCCCAACTAAATACTACCGTATGGCCCACCATAATTACCCCCA...      4\n",
       "1  ATGAACGAAAATCTGTTCGCTTCATTCATTGCCCCCACAATCCTAG...      4\n",
       "2  ATGTGTGGCATTTGGGCGCTGTTTGGCAGTGATGATTGCCTTTCTG...      3\n",
       "3  ATGTGTGGCATTTGGGCGCTGTTTGGCAGTGATGATTGCCTTTCTG...      3\n",
       "4  ATGCAACAGCATTTTGAATTTGAATACCAGACCAAAGTGGATGGTG...      3"
      ]
     },
     "execution_count": 2,
     "metadata": {},
     "output_type": "execute_result"
    }
   ],
   "source": [
    "df = pd.read_table('human_data.txt')\n",
    "df.head()"
   ]
  },
  {
   "cell_type": "markdown",
   "id": "4b4890a7",
   "metadata": {},
   "source": [
    "# Our target variable is class which has 6 different labels as the sequences belong to a gene and every sequence has 4 nucleotides or bases i.e. A,T, G, C."
   ]
  },
  {
   "cell_type": "markdown",
   "id": "dc8ce0b5",
   "metadata": {},
   "source": [
    "# Our job is to convert the sequence into k-mers (for each seq) and then convert those fixed size k-mers of each sequence to vectors using BOW, TF-IDF etc."
   ]
  },
  {
   "cell_type": "markdown",
   "id": "104ef56f",
   "metadata": {},
   "source": [
    "# First we have to decide the length of kmer(6 in this case) and create subset vector of size 6 for each sequence"
   ]
  },
  {
   "cell_type": "markdown",
   "id": "3cae27ee",
   "metadata": {},
   "source": [
    "# We will define a function to collect all possible k-mers of particular length from any sequnce and apply tht kmers function to all sequences."
   ]
  },
  {
   "cell_type": "code",
   "execution_count": 3,
   "id": "2a39505b",
   "metadata": {},
   "outputs": [],
   "source": [
    "def getkmers(sequence,size=6):\n",
    "    return [sequence[x:x+size].lower() for x in range(len(sequence)-size+1)]"
   ]
  },
  {
   "cell_type": "markdown",
   "id": "c085ab3f",
   "metadata": {},
   "source": [
    " Now lets apply this function to all sequences"
   ]
  },
  {
   "cell_type": "code",
   "execution_count": 5,
   "id": "16017b50",
   "metadata": {},
   "outputs": [],
   "source": [
    "df['words']=df.apply(lambda x: getkmers(x['sequence']),axis=1)"
   ]
  },
  {
   "cell_type": "markdown",
   "id": "57b3b0a4",
   "metadata": {},
   "source": [
    " # We have converted the sequnces into short overlapping k-mers of length 6"
   ]
  },
  {
   "cell_type": "code",
   "execution_count": 6,
   "id": "8a646da2",
   "metadata": {},
   "outputs": [
    {
     "data": {
      "text/html": [
       "<div>\n",
       "<style scoped>\n",
       "    .dataframe tbody tr th:only-of-type {\n",
       "        vertical-align: middle;\n",
       "    }\n",
       "\n",
       "    .dataframe tbody tr th {\n",
       "        vertical-align: top;\n",
       "    }\n",
       "\n",
       "    .dataframe thead th {\n",
       "        text-align: right;\n",
       "    }\n",
       "</style>\n",
       "<table border=\"1\" class=\"dataframe\">\n",
       "  <thead>\n",
       "    <tr style=\"text-align: right;\">\n",
       "      <th></th>\n",
       "      <th>sequence</th>\n",
       "      <th>class</th>\n",
       "      <th>words</th>\n",
       "    </tr>\n",
       "  </thead>\n",
       "  <tbody>\n",
       "    <tr>\n",
       "      <th>0</th>\n",
       "      <td>ATGCCCCAACTAAATACTACCGTATGGCCCACCATAATTACCCCCA...</td>\n",
       "      <td>4</td>\n",
       "      <td>[atgccc, tgcccc, gcccca, ccccaa, cccaac, ccaac...</td>\n",
       "    </tr>\n",
       "    <tr>\n",
       "      <th>1</th>\n",
       "      <td>ATGAACGAAAATCTGTTCGCTTCATTCATTGCCCCCACAATCCTAG...</td>\n",
       "      <td>4</td>\n",
       "      <td>[atgaac, tgaacg, gaacga, aacgaa, acgaaa, cgaaa...</td>\n",
       "    </tr>\n",
       "    <tr>\n",
       "      <th>2</th>\n",
       "      <td>ATGTGTGGCATTTGGGCGCTGTTTGGCAGTGATGATTGCCTTTCTG...</td>\n",
       "      <td>3</td>\n",
       "      <td>[atgtgt, tgtgtg, gtgtgg, tgtggc, gtggca, tggca...</td>\n",
       "    </tr>\n",
       "    <tr>\n",
       "      <th>3</th>\n",
       "      <td>ATGTGTGGCATTTGGGCGCTGTTTGGCAGTGATGATTGCCTTTCTG...</td>\n",
       "      <td>3</td>\n",
       "      <td>[atgtgt, tgtgtg, gtgtgg, tgtggc, gtggca, tggca...</td>\n",
       "    </tr>\n",
       "    <tr>\n",
       "      <th>4</th>\n",
       "      <td>ATGCAACAGCATTTTGAATTTGAATACCAGACCAAAGTGGATGGTG...</td>\n",
       "      <td>3</td>\n",
       "      <td>[atgcaa, tgcaac, gcaaca, caacag, aacagc, acagc...</td>\n",
       "    </tr>\n",
       "  </tbody>\n",
       "</table>\n",
       "</div>"
      ],
      "text/plain": [
       "                                            sequence  class  \\\n",
       "0  ATGCCCCAACTAAATACTACCGTATGGCCCACCATAATTACCCCCA...      4   \n",
       "1  ATGAACGAAAATCTGTTCGCTTCATTCATTGCCCCCACAATCCTAG...      4   \n",
       "2  ATGTGTGGCATTTGGGCGCTGTTTGGCAGTGATGATTGCCTTTCTG...      3   \n",
       "3  ATGTGTGGCATTTGGGCGCTGTTTGGCAGTGATGATTGCCTTTCTG...      3   \n",
       "4  ATGCAACAGCATTTTGAATTTGAATACCAGACCAAAGTGGATGGTG...      3   \n",
       "\n",
       "                                               words  \n",
       "0  [atgccc, tgcccc, gcccca, ccccaa, cccaac, ccaac...  \n",
       "1  [atgaac, tgaacg, gaacga, aacgaa, acgaaa, cgaaa...  \n",
       "2  [atgtgt, tgtgtg, gtgtgg, tgtggc, gtggca, tggca...  \n",
       "3  [atgtgt, tgtgtg, gtgtgg, tgtggc, gtggca, tggca...  \n",
       "4  [atgcaa, tgcaac, gcaaca, caacag, aacagc, acagc...  "
      ]
     },
     "execution_count": 6,
     "metadata": {},
     "output_type": "execute_result"
    }
   ],
   "source": [
    "df.head()"
   ]
  },
  {
   "cell_type": "code",
   "execution_count": 7,
   "id": "af2b526e",
   "metadata": {},
   "outputs": [],
   "source": [
    "df.drop('sequence',axis=1,inplace=True)"
   ]
  },
  {
   "cell_type": "code",
   "execution_count": 8,
   "id": "e0076d0a",
   "metadata": {},
   "outputs": [
    {
     "data": {
      "text/html": [
       "<div>\n",
       "<style scoped>\n",
       "    .dataframe tbody tr th:only-of-type {\n",
       "        vertical-align: middle;\n",
       "    }\n",
       "\n",
       "    .dataframe tbody tr th {\n",
       "        vertical-align: top;\n",
       "    }\n",
       "\n",
       "    .dataframe thead th {\n",
       "        text-align: right;\n",
       "    }\n",
       "</style>\n",
       "<table border=\"1\" class=\"dataframe\">\n",
       "  <thead>\n",
       "    <tr style=\"text-align: right;\">\n",
       "      <th></th>\n",
       "      <th>class</th>\n",
       "      <th>words</th>\n",
       "    </tr>\n",
       "  </thead>\n",
       "  <tbody>\n",
       "    <tr>\n",
       "      <th>0</th>\n",
       "      <td>4</td>\n",
       "      <td>[atgccc, tgcccc, gcccca, ccccaa, cccaac, ccaac...</td>\n",
       "    </tr>\n",
       "    <tr>\n",
       "      <th>1</th>\n",
       "      <td>4</td>\n",
       "      <td>[atgaac, tgaacg, gaacga, aacgaa, acgaaa, cgaaa...</td>\n",
       "    </tr>\n",
       "    <tr>\n",
       "      <th>2</th>\n",
       "      <td>3</td>\n",
       "      <td>[atgtgt, tgtgtg, gtgtgg, tgtggc, gtggca, tggca...</td>\n",
       "    </tr>\n",
       "    <tr>\n",
       "      <th>3</th>\n",
       "      <td>3</td>\n",
       "      <td>[atgtgt, tgtgtg, gtgtgg, tgtggc, gtggca, tggca...</td>\n",
       "    </tr>\n",
       "    <tr>\n",
       "      <th>4</th>\n",
       "      <td>3</td>\n",
       "      <td>[atgcaa, tgcaac, gcaaca, caacag, aacagc, acagc...</td>\n",
       "    </tr>\n",
       "  </tbody>\n",
       "</table>\n",
       "</div>"
      ],
      "text/plain": [
       "   class                                              words\n",
       "0      4  [atgccc, tgcccc, gcccca, ccccaa, cccaac, ccaac...\n",
       "1      4  [atgaac, tgaacg, gaacga, aacgaa, acgaaa, cgaaa...\n",
       "2      3  [atgtgt, tgtgtg, gtgtgg, tgtggc, gtggca, tggca...\n",
       "3      3  [atgtgt, tgtgtg, gtgtgg, tgtggc, gtggca, tggca...\n",
       "4      3  [atgcaa, tgcaac, gcaaca, caacag, aacagc, acagc..."
      ]
     },
     "execution_count": 8,
     "metadata": {},
     "output_type": "execute_result"
    }
   ],
   "source": [
    "df.head()"
   ]
  },
  {
   "cell_type": "code",
   "execution_count": 9,
   "id": "1e2edcb4",
   "metadata": {},
   "outputs": [],
   "source": [
    "# Now we have the list of all k-mers of length 6 of each sequence . "
   ]
  },
  {
   "cell_type": "markdown",
   "id": "2e871187",
   "metadata": {},
   "source": [
    "# We now have the fixed vector size of each sequence and now we can apply BOW techniques . We have to convert list of kmers into string of sentences for each gene so that we can feed it to BOW\n"
   ]
  },
  {
   "cell_type": "code",
   "execution_count": 10,
   "id": "48fb9fa9",
   "metadata": {},
   "outputs": [],
   "source": [
    "texts=list(df.words)"
   ]
  },
  {
   "cell_type": "code",
   "execution_count": 11,
   "id": "0b43f993",
   "metadata": {},
   "outputs": [],
   "source": [
    "for item in range(len(texts)):\n",
    "    texts[item]=' '.join(texts[item])"
   ]
  },
  {
   "cell_type": "code",
   "execution_count": 12,
   "id": "a99319c2",
   "metadata": {},
   "outputs": [],
   "source": [
    "y=df['class'].values"
   ]
  },
  {
   "cell_type": "code",
   "execution_count": 13,
   "id": "ddd1927a",
   "metadata": {},
   "outputs": [
    {
     "name": "stdout",
     "output_type": "stream",
     "text": [
      "atgccc tgcccc gcccca ccccaa cccaac ccaact caacta aactaa actaaa ctaaat taaata aaatac aatact atacta tactac actacc ctaccg taccgt accgta ccgtat cgtatg gtatgg tatggc atggcc tggccc ggccca gcccac cccacc ccacca caccat accata ccataa cataat ataatt taatta aattac attacc ttaccc tacccc accccc ccccca ccccat cccata ccatac catact atactc tactcc actcct ctcctt tcctta ccttac cttaca ttacac tacact acacta cactat actatt ctattc tattcc attcct ttcctc tcctca cctcat ctcatc tcatca catcac atcacc tcaccc caccca acccaa cccaac ccaact caacta aactaa actaaa ctaaaa taaaaa aaaaat aaaata aaatat aatatt atatta tattaa attaaa ttaaac taaaca aaacac aacaca acacaa cacaaa acaaac caaact aaacta aactac actacc ctacca taccac accacc ccacct caccta acctac cctacc ctacct tacctc acctcc cctccc ctccct tccctc ccctca cctcac ctcacc tcacca caccaa accaaa ccaaag caaagc aaagcc aagccc agccca gcccat cccata ccataa cataaa ataaaa taaaaa aaaaat aaaata aaataa aataaa ataaaa taaaaa aaaaaa aaaaat aaaatt aaatta aattat attata ttataa tataac ataaca taacaa aacaaa acaaac caaacc aaaccc aaccct accctg ccctga cctgag ctgaga tgagaa gagaac agaacc gaacca aaccaa accaaa ccaaaa caaaat aaaatg aaatga aatgaa atgaac tgaacg gaacga aacgaa acgaaa cgaaaa gaaaat aaaatc aaatct aatctg atctgt tctgtt ctgttc tgttcg gttcgc ttcgct tcgctt cgcttc gcttca cttcat ttcatt tcattc cattca attcat ttcatt tcattg cattgc attgcc ttgccc tgcccc gccccc ccccca ccccac cccaca ccacaa cacaat acaatc caatcc aatcct atccta tcctag\n"
     ]
    }
   ],
   "source": [
    "print(texts[0])"
   ]
  },
  {
   "cell_type": "code",
   "execution_count": 14,
   "id": "1a132555",
   "metadata": {},
   "outputs": [
    {
     "name": "stdout",
     "output_type": "stream",
     "text": [
      "atgaac tgaacg gaacga aacgaa acgaaa cgaaaa gaaaat aaaatc aaatct aatctg atctgt tctgtt ctgttc tgttcg gttcgc ttcgct tcgctt cgcttc gcttca cttcat ttcatt tcattc cattca attcat ttcatt tcattg cattgc attgcc ttgccc tgcccc gccccc ccccca ccccac cccaca ccacaa cacaat acaatc caatcc aatcct atccta tcctag cctagg ctaggc taggcc aggcct ggccta gcctac cctacc ctaccc tacccg acccgc cccgcc ccgccg cgccgc gccgca ccgcag cgcagt gcagta cagtac agtact gtactg tactga actgat ctgatc tgatca gatcat atcatt tcattc cattct attcta ttctat tctatt ctattt tatttc atttcc tttccc ttcccc tccccc ccccct cccctc ccctct cctcta ctctat tctatt ctattg tattga attgat ttgatc tgatcc gatccc atcccc tcccca ccccac cccacc ccacct cacctc acctcc cctcca ctccaa tccaaa ccaaat caaata aaatat aatatc atatct tatctc atctca tctcat ctcatc tcatca catcaa atcaac tcaaca caacaa aacaac acaacc caaccg aaccga accgac ccgact cgacta gactaa actaat ctaatc taatca aatcac atcacc tcacca caccac accacc ccaccc caccca acccaa cccaac ccaaca caacaa aacaat acaatg caatga aatgac atgact tgacta gactaa actaat ctaatc taatca aatcaa atcaaa tcaaac caaact aaacta aactaa actaac ctaacc taacct aacctc acctca cctcaa ctcaaa tcaaaa caaaac aaaaca aaacaa aacaaa acaaat caaatg aaatga aatgat atgata tgataa gataac ataacc taacca aaccat accata ccatac cataca atacac tacaca acacaa cacaac acaaca caacac aacact acacta cactaa actaaa ctaaag taaagg aaagga aaggac aggacg ggacga gacgaa acgaac cgaacc gaacct aacctg acctga cctgat ctgatc tgatct gatctc atctct tctctt ctctta tcttat cttata ttatac tatact atacta tactag actagt ctagta tagtat agtatc gtatcc tatcct atcctt tcctta ccttaa cttaat ttaatc taatca aatcat atcatt tcattt catttt attttt ttttta ttttat tttatt ttattg tattgc attgcc ttgcca tgccac gccaca ccacaa cacaac acaact caacta aactaa actaac ctaacc taacct aacctc acctcc cctcct ctcctc tcctcg cctcgg ctcgga tcggac cggact ggactc gactcc actcct ctcctg tcctgc cctgcc ctgcct tgcctc gcctca cctcac ctcact tcactc cactca actcat ctcatt tcattt cattta atttac tttaca ttacac tacacc acacca caccaa accaac ccaacc caacca aaccac accacc ccaccc caccca acccaa cccaac ccaact caacta aactat actatc ctatct tatcta atctat tctata ctataa tataaa ataaac taaacc aaacct aaccta acctag cctagc ctagcc tagcca agccat gccatg ccatgg catggc atggcc tggcca ggccat gccatc ccatcc catccc atcccc tcccct cccctt ccctta ccttat cttatg ttatga tatgag atgagc tgagcg gagcgg agcggg gcgggc cgggca gggcac ggcaca gcacag cacagt acagtg cagtga agtgat gtgatt tgatta gattat attata ttatag tatagg ataggc taggct aggctt ggcttt gctttc ctttcg tttcgc ttcgct tcgctc cgctct gctcta ctctaa tctaag ctaaga taagat aagatt agatta gattaa attaaa ttaaaa taaaaa aaaaat aaaatg aaatgc aatgcc atgccc tgccct gcccta ccctag cctagc ctagcc tagccc agccca gcccac cccact ccactt cacttc acttct cttctt ttctta tcttac cttacc ttacca taccac accaca ccacaa cacaag acaagg caaggc aaggca aggcac ggcaca gcacac cacacc acacct caccta acctac cctaca ctacac tacacc acaccc cacccc acccct cccctt ccctta ccttat cttatc ttatcc tatccc atcccc tcccca ccccat cccata ccatac catact atacta tactag actagt ctagtt tagtta agttat gttatt ttatta tattat attatc ttatcg tatcga atcgaa tcgaaa cgaaac gaaacc aaacca aaccat accatc ccatca catcag atcagc tcagcc cagcct agccta gcctac cctact ctactc tactca actcat ctcatt tcattc cattca attcaa ttcaac tcaacc caacca aaccaa accaat ccaata caatag aatagc atagcc tagccc agccct gccctg ccctgg cctggc ctggcc tggccg ggccgt gccgta ccgtac cgtacg gtacgc tacgcc acgcct cgccta gcctaa cctaac ctaacc taaccg aaccgc accgct ccgcta cgctaa gctaac ctaaca taacat aacatt acatta cattac attact ttactg tactgc actgca ctgcag tgcagg gcaggc caggcc aggcca ggccac gccacc ccacct caccta acctac cctact ctactc tactca actcat ctcatg tcatgc catgca atgcac tgcacc gcacct caccta acctaa cctaat ctaatt taattg aattgg attgga ttggaa tggaag ggaagc gaagcg aagcgc agcgcc gcgcca cgccac gccacc ccaccc caccct acccta ccctag cctagc ctagca tagcaa agcaat gcaata caatat aatatc atatca tatcaa atcaac tcaacc caacca aaccat accatt ccatta cattaa attaac ttaacc taacct aacctt accttc ccttcc cttccc ttccct tccctc ccctct cctcta ctctac tctaca ctacac tacact acactt cactta acttat cttatc ttatca tatcat atcatc tcatct catctt atcttc tcttca cttcac ttcaca tcacaa cacaat acaatt caattc aattct attcta ttctaa tctaat ctaatt taattc aattct attcta ttctac tctact ctactg tactga actgac ctgact tgacta gactat actatc ctatcc tatcct atccta tcctag cctaga ctagaa tagaaa agaaat gaaatc aaatcg aatcgc atcgct tcgctg cgctgt gctgtc ctgtcg tgtcgc gtcgcc tcgcct cgcctt gcctta ccttaa cttaat ttaatc taatcc aatcca atccaa tccaag ccaagc caagcc aagcct agccta gcctac cctacg ctacgt tacgtt acgttt cgtttt gttttc ttttca tttcac ttcaca tcacac cacact acactt cacttc acttct cttcta ttctag tctagt ctagta tagtaa agtaag gtaagc taagcc aagcct agcctc gcctct cctcta ctctac tctacc ctacct tacctg acctgc cctgca ctgcac tgcacg gcacga cacgac acgaca cgacaa gacaac acaaca caacac aacaca acacat cacata acataa\n"
     ]
    }
   ],
   "source": [
    "print(texts[1])"
   ]
  },
  {
   "cell_type": "markdown",
   "id": "f1c4e635",
   "metadata": {},
   "source": [
    "# Each sequence is converted into k-mers of length 6"
   ]
  },
  {
   "cell_type": "code",
   "execution_count": 15,
   "id": "f0aa4623",
   "metadata": {},
   "outputs": [],
   "source": [
    "# #now apply BOW"
   ]
  },
  {
   "cell_type": "code",
   "execution_count": 16,
   "id": "4994bc1c",
   "metadata": {},
   "outputs": [],
   "source": [
    "from sklearn.feature_extraction.text import CountVectorizer"
   ]
  },
  {
   "cell_type": "code",
   "execution_count": 17,
   "id": "d79df04c",
   "metadata": {},
   "outputs": [],
   "source": [
    "cv=CountVectorizer(ngram_range=(4,4))  #Random paramters or we can do hyper parameter tuning"
   ]
  },
  {
   "cell_type": "code",
   "execution_count": 18,
   "id": "3dbf404e",
   "metadata": {},
   "outputs": [],
   "source": [
    "X=cv.fit_transform(texts)"
   ]
  },
  {
   "cell_type": "code",
   "execution_count": 19,
   "id": "4a28e7d6",
   "metadata": {},
   "outputs": [
    {
     "data": {
      "text/plain": [
       "(4380, 232414)"
      ]
     },
     "execution_count": 19,
     "metadata": {},
     "output_type": "execute_result"
    }
   ],
   "source": [
    "X.shape"
   ]
  },
  {
   "cell_type": "code",
   "execution_count": 20,
   "id": "6b968aa7",
   "metadata": {},
   "outputs": [
    {
     "data": {
      "text/plain": [
       "<AxesSubplot:>"
      ]
     },
     "execution_count": 20,
     "metadata": {},
     "output_type": "execute_result"
    },
    {
     "data": {
      "image/png": "[encoded data removed]",
      "text/plain": [
       "<Figure size 640x480 with 1 Axes>"
      ]
     },
     "metadata": {},
     "output_type": "display_data"
    }
   ],
   "source": [
    "df['class'].value_counts().plot.bar()"
   ]
  },
  {
   "cell_type": "code",
   "execution_count": 21,
   "id": "e6f46cef",
   "metadata": {},
   "outputs": [],
   "source": [
    "from sklearn.model_selection import train_test_split "
   ]
  },
  {
   "cell_type": "code",
   "execution_count": 22,
   "id": "c8b31452",
   "metadata": {},
   "outputs": [],
   "source": [
    "X_train,X_test,y_train,y_test=train_test_split(X,y,test_size=0.2,random_state=40)"
   ]
  },
  {
   "cell_type": "code",
   "execution_count": 23,
   "id": "99fc6ba0",
   "metadata": {},
   "outputs": [],
   "source": [
    "from sklearn.naive_bayes import MultinomialNB"
   ]
  },
  {
   "cell_type": "code",
   "execution_count": 24,
   "id": "6dd9fe41",
   "metadata": {},
   "outputs": [],
   "source": [
    "classifier=MultinomialNB(alpha=0.1)    #random alpha value or we can do grid search CV"
   ]
  },
  {
   "cell_type": "code",
   "execution_count": 25,
   "id": "fb02c700",
   "metadata": {},
   "outputs": [
    {
     "data": {
      "text/plain": [
       "MultinomialNB(alpha=0.1)"
      ]
     },
     "execution_count": 25,
     "metadata": {},
     "output_type": "execute_result"
    }
   ],
   "source": [
    "classifier.fit(X_train,y_train)"
   ]
  },
  {
   "cell_type": "code",
   "execution_count": 26,
   "id": "0a0e85b0",
   "metadata": {},
   "outputs": [],
   "source": [
    "y_pred=classifier.predict(X_test)"
   ]
  },
  {
   "cell_type": "code",
   "execution_count": 27,
   "id": "2a7f76c7",
   "metadata": {},
   "outputs": [],
   "source": [
    "from sklearn.metrics import accuracy_score"
   ]
  },
  {
   "cell_type": "code",
   "execution_count": 28,
   "id": "8df7128e",
   "metadata": {},
   "outputs": [
    {
     "name": "stdout",
     "output_type": "stream",
     "text": [
      "0.9817351598173516\n"
     ]
    }
   ],
   "source": [
    "print(accuracy_score(y_test,y_pred))"
   ]
  }
 ],
 "metadata": {
  "kernelspec": {
   "display_name": "Python 3 (ipykernel)",
   "language": "python",
   "name": "python3"
  },
  "language_info": {
   "codemirror_mode": {
    "name": "ipython",
    "version": 3
   },
   "file_extension": ".py",
   "mimetype": "text/x-python",
   "name": "python",
   "nbconvert_exporter": "python",
   "pygments_lexer": "ipython3",
   "version": "3.9.13"
  }
 },
 "nbformat": 4,
 "nbformat_minor": 5
}
